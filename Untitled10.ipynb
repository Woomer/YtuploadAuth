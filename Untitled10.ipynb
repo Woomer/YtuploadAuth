{
  "nbformat": 4,
  "nbformat_minor": 0,
  "metadata": {
    "colab": {
      "provenance": [],
      "authorship_tag": "ABX9TyP8Ggweo7DbuBHEKRa5ZtLe",
      "include_colab_link": true
    },
    "kernelspec": {
      "name": "python3",
      "display_name": "Python 3"
    },
    "language_info": {
      "name": "python"
    }
  },
  "cells": [
    {
      "cell_type": "markdown",
      "metadata": {
        "id": "view-in-github",
        "colab_type": "text"
      },
      "source": [
        "<a href=\"https://colab.research.google.com/github/Woomer/YtuploadAuth/blob/main/Untitled10.ipynb\" target=\"_parent\"><img src=\"https://colab.research.google.com/assets/colab-badge.svg\" alt=\"Open In Colab\"/></a>"
      ]
    },
    {
      "cell_type": "code",
      "source": [
        "!pip install django djangorestframework google-auth google-auth-oauthlib google-auth-httplib2 requests django-cors-headers pyngrok"
      ],
      "metadata": {
        "colab": {
          "base_uri": "https://localhost:8080/"
        },
        "id": "oR7XtKRCIkrj",
        "outputId": "1b079c70-cc25-4c42-ab37-b886d2236f0a"
      },
      "execution_count": 1,
      "outputs": [
        {
          "output_type": "stream",
          "name": "stdout",
          "text": [
            "Collecting django\n",
            "  Downloading Django-5.0.6-py3-none-any.whl (8.2 MB)\n",
            "\u001b[2K     \u001b[90m━━━━━━━━━━━━━━━━━━━━━━━━━━━━━━━━━━━━━━━━\u001b[0m \u001b[32m8.2/8.2 MB\u001b[0m \u001b[31m13.2 MB/s\u001b[0m eta \u001b[36m0:00:00\u001b[0m\n",
            "\u001b[?25hCollecting djangorestframework\n",
            "  Downloading djangorestframework-3.15.2-py3-none-any.whl (1.1 MB)\n",
            "\u001b[2K     \u001b[90m━━━━━━━━━━━━━━━━━━━━━━━━━━━━━━━━━━━━━━━━\u001b[0m \u001b[32m1.1/1.1 MB\u001b[0m \u001b[31m23.4 MB/s\u001b[0m eta \u001b[36m0:00:00\u001b[0m\n",
            "\u001b[?25hRequirement already satisfied: google-auth in /usr/local/lib/python3.10/dist-packages (2.27.0)\n",
            "Requirement already satisfied: google-auth-oauthlib in /usr/local/lib/python3.10/dist-packages (1.2.0)\n",
            "Requirement already satisfied: google-auth-httplib2 in /usr/local/lib/python3.10/dist-packages (0.1.1)\n",
            "Requirement already satisfied: requests in /usr/local/lib/python3.10/dist-packages (2.31.0)\n",
            "Collecting django-cors-headers\n",
            "  Downloading django_cors_headers-4.3.1-py3-none-any.whl (12 kB)\n",
            "Collecting pyngrok\n",
            "  Downloading pyngrok-7.1.6-py3-none-any.whl (22 kB)\n",
            "Collecting asgiref<4,>=3.7.0 (from django)\n",
            "  Downloading asgiref-3.8.1-py3-none-any.whl (23 kB)\n",
            "Requirement already satisfied: sqlparse>=0.3.1 in /usr/local/lib/python3.10/dist-packages (from django) (0.5.0)\n",
            "Requirement already satisfied: cachetools<6.0,>=2.0.0 in /usr/local/lib/python3.10/dist-packages (from google-auth) (5.3.3)\n",
            "Requirement already satisfied: pyasn1-modules>=0.2.1 in /usr/local/lib/python3.10/dist-packages (from google-auth) (0.4.0)\n",
            "Requirement already satisfied: rsa<5,>=3.1.4 in /usr/local/lib/python3.10/dist-packages (from google-auth) (4.9)\n",
            "Requirement already satisfied: requests-oauthlib>=0.7.0 in /usr/local/lib/python3.10/dist-packages (from google-auth-oauthlib) (1.3.1)\n",
            "Requirement already satisfied: httplib2>=0.19.0 in /usr/local/lib/python3.10/dist-packages (from google-auth-httplib2) (0.22.0)\n",
            "Requirement already satisfied: charset-normalizer<4,>=2 in /usr/local/lib/python3.10/dist-packages (from requests) (3.3.2)\n",
            "Requirement already satisfied: idna<4,>=2.5 in /usr/local/lib/python3.10/dist-packages (from requests) (3.7)\n",
            "Requirement already satisfied: urllib3<3,>=1.21.1 in /usr/local/lib/python3.10/dist-packages (from requests) (2.0.7)\n",
            "Requirement already satisfied: certifi>=2017.4.17 in /usr/local/lib/python3.10/dist-packages (from requests) (2024.6.2)\n",
            "Requirement already satisfied: PyYAML>=5.1 in /usr/local/lib/python3.10/dist-packages (from pyngrok) (6.0.1)\n",
            "Requirement already satisfied: typing-extensions>=4 in /usr/local/lib/python3.10/dist-packages (from asgiref<4,>=3.7.0->django) (4.12.2)\n",
            "Requirement already satisfied: pyparsing!=3.0.0,!=3.0.1,!=3.0.2,!=3.0.3,<4,>=2.4.2 in /usr/local/lib/python3.10/dist-packages (from httplib2>=0.19.0->google-auth-httplib2) (3.1.2)\n",
            "Requirement already satisfied: pyasn1<0.7.0,>=0.4.6 in /usr/local/lib/python3.10/dist-packages (from pyasn1-modules>=0.2.1->google-auth) (0.6.0)\n",
            "Requirement already satisfied: oauthlib>=3.0.0 in /usr/local/lib/python3.10/dist-packages (from requests-oauthlib>=0.7.0->google-auth-oauthlib) (3.2.2)\n",
            "Installing collected packages: pyngrok, asgiref, django, djangorestframework, django-cors-headers\n",
            "Successfully installed asgiref-3.8.1 django-5.0.6 django-cors-headers-4.3.1 djangorestframework-3.15.2 pyngrok-7.1.6\n"
          ]
        }
      ]
    },
    {
      "cell_type": "code",
      "source": [],
      "metadata": {
        "id": "T1b7744GIruJ"
      },
      "execution_count": 1,
      "outputs": []
    },
    {
      "cell_type": "code",
      "source": [
        "!django-admin startproject youtube_manager\n",
        "%cd youtube_manager\n",
        "!python manage.py startapp core"
      ],
      "metadata": {
        "colab": {
          "base_uri": "https://localhost:8080/"
        },
        "id": "df1wAhWGIoFf",
        "outputId": "5f21f3b8-1987-4acf-ff9e-f1092efdd1d5"
      },
      "execution_count": 2,
      "outputs": [
        {
          "output_type": "stream",
          "name": "stdout",
          "text": [
            "/content/youtube_manager\n"
          ]
        }
      ]
    },
    {
      "cell_type": "code",
      "source": [
        "import os\n",
        "\n",
        "settings_path = '/content/youtube_manager/youtube_manager/settings.py'\n",
        "with open(settings_path, 'a') as f:\n",
        "    f.write(\"\\nINSTALLED_APPS += ['rest_framework', 'corsheaders', 'core']\\n\")\n",
        "    f.write(\"\\nMIDDLEWARE += ['corsheaders.middleware.CorsMiddleware']\\n\")\n",
        "    f.write(\"\\nCORS_ALLOWED_ORIGINS = ['http://localhost:3000']\\n\")"
      ],
      "metadata": {
        "id": "hhQz-6OcPWgg"
      },
      "execution_count": 3,
      "outputs": []
    },
    {
      "cell_type": "code",
      "source": [
        "# Define models in core/models.py\n",
        "models_code = \"\"\"\n",
        "from django.db import models\n",
        "from django.contrib.auth.models import User\n",
        "\n",
        "class YouTubeChannel(models.Model):\n",
        "    user = models.OneToOneField(User, on_delete=models.CASCADE)\n",
        "    api_key = models.CharField(max_length=100)\n",
        "\n",
        "class Video(models.Model):\n",
        "    channel = models.ForeignKey(YouTubeChannel, on_delete=models.CASCADE)\n",
        "    title = models.CharField(max_length=255)\n",
        "    description = models.TextField()\n",
        "    file = models.FileField(upload_to='videos/')\n",
        "    approved = models.BooleanField(default=False)\n",
        "    uploaded_to_youtube = models.BooleanField(default=False)\n",
        "\n",
        "class Editor(models.Model):\n",
        "    user = models.OneToOneField(User, on_delete=models.CASCADE)\n",
        "    channels = models.ManyToManyField(YouTubeChannel)\n",
        "\n",
        "class Approval(models.Model):\n",
        "    video = models.ForeignKey(Video, on_delete=models.CASCADE)\n",
        "    approved = models.BooleanField(default=False)\n",
        "    date_approved = models.DateTimeField(null=True, blank=True)\n",
        "\"\"\"\n",
        "with open('/content/youtube_manager/core/models.py', 'w') as f:\n",
        "    f.write(models_code)\n",
        "\n",
        "# Define serializers in core/serializers.py\n",
        "serializers_code = \"\"\"\n",
        "from rest_framework import serializers\n",
        "from .models import YouTubeChannel, Video, Editor, Approval\n",
        "\n",
        "class YouTubeChannelSerializer(serializers.ModelSerializer):\n",
        "    class Meta:\n",
        "        model = YouTubeChannel\n",
        "        fields = '__all__'\n",
        "\n",
        "class VideoSerializer(serializers.ModelSerializer):\n",
        "    class Meta:\n",
        "        model = Video\n",
        "        fields = '__all__'\n",
        "\n",
        "class EditorSerializer(serializers.ModelSerializer):\n",
        "    class Meta:\n",
        "        model = Editor\n",
        "        fields = '__all__'\n",
        "\n",
        "class ApprovalSerializer(serializers.ModelSerializer):\n",
        "    class Meta:\n",
        "        model = Approval\n",
        "        fields = '__all__'\n",
        "\"\"\"\n",
        "with open('/content/youtube_manager/core/serializers.py', 'w') as f:\n",
        "    f.write(serializers_code)\n",
        "\n",
        "# Define views in core/views.py\n",
        "views_code = \"\"\"\n",
        "from rest_framework import viewsets\n",
        "from .models import YouTubeChannel, Video, Editor, Approval\n",
        "from .serializers import YouTubeChannelSerializer, VideoSerializer, EditorSerializer, ApprovalSerializer\n",
        "\n",
        "class YouTubeChannelViewSet(viewsets.ModelViewSet):\n",
        "    queryset = YouTubeChannel.objects.all()\n",
        "    serializer_class = YouTubeChannelSerializer\n",
        "\n",
        "class VideoViewSet(viewsets.ModelViewSet):\n",
        "    queryset = Video.objects.all()\n",
        "    serializer_class = VideoSerializer\n",
        "\n",
        "class EditorViewSet(viewsets.ModelViewSet):\n",
        "    queryset = Editor.objects.all()\n",
        "    serializer_class = EditorSerializer\n",
        "\n",
        "class ApprovalViewSet(viewsets.ModelViewSet):\n",
        "    queryset = Approval.objects.all()\n",
        "    serializer_class = ApprovalSerializer\n",
        "\"\"\"\n",
        "with open('/content/youtube_manager/core/views.py', 'w') as f:\n",
        "    f.write(views_code)\n",
        "\n",
        "# Define URLs in core/urls.py\n",
        "urls_code = \"\"\"\n",
        "from django.urls import include, path\n",
        "from rest_framework.routers import DefaultRouter\n",
        "from .views import YouTubeChannelViewSet, VideoViewSet, EditorViewSet, ApprovalViewSet\n",
        "\n",
        "router = DefaultRouter()\n",
        "router.register(r'channels', YouTubeChannelViewSet)\n",
        "router.register(r'videos', VideoViewSet)\n",
        "router.register(r'editors', EditorViewSet)\n",
        "router.register(r'approvals', ApprovalViewSet)\n",
        "\n",
        "urlpatterns = [\n",
        "    path('api/', include(router.urls)),\n",
        "]\n",
        "\"\"\"\n",
        "with open('/content/youtube_manager/core/urls.py', 'w') as f:\n",
        "    f.write(urls_code)\n",
        "\n",
        "# Update project URLs in youtube_manager/urls.py\n",
        "project_urls_code = \"\"\"\n",
        "from django.contrib import admin\n",
        "from django.urls import path, include\n",
        "\n",
        "urlpatterns = [\n",
        "    path('admin/', admin.site.urls),\n",
        "    path('', include('core.urls')),\n",
        "]\n",
        "\"\"\"\n",
        "with open('/content/youtube_manager/youtube_manager/urls.py', 'w') as f:\n",
        "    f.write(project_urls_code)"
      ],
      "metadata": {
        "id": "JPqTsqtJIsZO"
      },
      "execution_count": 4,
      "outputs": []
    },
    {
      "cell_type": "code",
      "source": [],
      "metadata": {
        "id": "kU6HyYA3fB9X"
      },
      "execution_count": null,
      "outputs": []
    }
  ]
}